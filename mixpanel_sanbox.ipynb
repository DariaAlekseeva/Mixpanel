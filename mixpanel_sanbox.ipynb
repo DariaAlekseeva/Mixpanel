{
 "cells": [
  {
   "cell_type": "markdown",
   "metadata": {},
   "source": [
    "# EXPORTING DATA FROM MIXPANEL"
   ]
  },
  {
   "cell_type": "markdown",
   "metadata": {},
   "source": [
    "## Segmentation. Event = App_launched"
   ]
  },
  {
   "cell_type": "code",
   "execution_count": 333,
   "metadata": {
    "collapsed": false
   },
   "outputs": [],
   "source": [
    "# code\n",
    "data = api.request(['segmentation'], {\n",
    "    'event': 'app_launched',\n",
    "    'from_date': '2015-09-17',\n",
    "    'to_date': '2015-09-20'\n",
    "})"
   ]
  },
  {
   "cell_type": "code",
   "execution_count": 248,
   "metadata": {
    "collapsed": false
   },
   "outputs": [
    {
     "data": {
      "text/plain": [
       "{u'data': {u'series': [u'2015-09-17',\n",
       "   u'2015-09-18',\n",
       "   u'2015-09-19',\n",
       "   u'2015-09-20'],\n",
       "  u'values': {u'app_launched': {u'2015-09-17': 47,\n",
       "    u'2015-09-18': 49,\n",
       "    u'2015-09-19': 57,\n",
       "    u'2015-09-20': 52}}},\n",
       " u'legend_size': 1}"
      ]
     },
     "execution_count": 248,
     "metadata": {},
     "output_type": "execute_result"
    }
   ],
   "source": [
    "# output data\n",
    "data"
   ]
  },
  {
   "cell_type": "code",
   "execution_count": 249,
   "metadata": {
    "collapsed": false
   },
   "outputs": [
    {
     "data": {
      "text/html": [
       "<div style=\"max-height:1000px;max-width:1500px;overflow:auto;\">\n",
       "<table border=\"1\" class=\"dataframe\">\n",
       "  <thead>\n",
       "    <tr style=\"text-align: right;\">\n",
       "      <th></th>\n",
       "      <th>app_launched</th>\n",
       "    </tr>\n",
       "  </thead>\n",
       "  <tbody>\n",
       "    <tr>\n",
       "      <th>2015-09-17</th>\n",
       "      <td> 47</td>\n",
       "    </tr>\n",
       "    <tr>\n",
       "      <th>2015-09-18</th>\n",
       "      <td> 49</td>\n",
       "    </tr>\n",
       "    <tr>\n",
       "      <th>2015-09-19</th>\n",
       "      <td> 57</td>\n",
       "    </tr>\n",
       "    <tr>\n",
       "      <th>2015-09-20</th>\n",
       "      <td> 52</td>\n",
       "    </tr>\n",
       "  </tbody>\n",
       "</table>\n",
       "</div>"
      ],
      "text/plain": [
       "            app_launched\n",
       "2015-09-17            47\n",
       "2015-09-18            49\n",
       "2015-09-19            57\n",
       "2015-09-20            52"
      ]
     },
     "execution_count": 249,
     "metadata": {},
     "output_type": "execute_result"
    }
   ],
   "source": [
    "# create table using pandas\n",
    "import pandas as pd\n",
    "pd.DataFrame.from_dict(data['data']['values'])"
   ]
  },
  {
   "cell_type": "markdown",
   "metadata": {},
   "source": [
    "## Segmentation. Event = 'app_launched' with property = App Version"
   ]
  },
  {
   "cell_type": "code",
   "execution_count": 252,
   "metadata": {
    "collapsed": false
   },
   "outputs": [
    {
     "data": {
      "text/plain": [
       "{u'data': {u'series': [u'2015-10-25',\n",
       "   u'2015-10-26',\n",
       "   u'2015-10-27',\n",
       "   u'2015-10-28'],\n",
       "  u'values': {u'1.5.13': {u'2015-10-25': 17,\n",
       "    u'2015-10-26': 10,\n",
       "    u'2015-10-27': 15,\n",
       "    u'2015-10-28': 17},\n",
       "   u'1.5.9': {u'2015-10-25': 2,\n",
       "    u'2015-10-26': 2,\n",
       "    u'2015-10-27': 5,\n",
       "    u'2015-10-28': 0},\n",
       "   u'33085': {u'2015-10-25': 0,\n",
       "    u'2015-10-26': 0,\n",
       "    u'2015-10-27': 1,\n",
       "    u'2015-10-28': 0},\n",
       "   u'34084': {u'2015-10-25': 19,\n",
       "    u'2015-10-26': 6,\n",
       "    u'2015-10-27': 12,\n",
       "    u'2015-10-28': 13},\n",
       "   u'37744': {u'2015-10-25': 12,\n",
       "    u'2015-10-26': 5,\n",
       "    u'2015-10-27': 4,\n",
       "    u'2015-10-28': 4}}},\n",
       " u'legend_size': 5}"
      ]
     },
     "execution_count": 252,
     "metadata": {},
     "output_type": "execute_result"
    }
   ],
   "source": [
    "# code\n",
    "data = api.request(['segmentation'], {\n",
    "    'event': 'app_launched',\n",
    "    'from_date': '2015-10-25',\n",
    "    'to_date': '2015-10-28',\n",
    "    'on': 'properties[\"$app_version\"]'\n",
    "})\n",
    "\n",
    "# output data\n",
    "data"
   ]
  },
  {
   "cell_type": "code",
   "execution_count": 255,
   "metadata": {
    "collapsed": false
   },
   "outputs": [
    {
     "data": {
      "text/html": [
       "<div style=\"max-height:1000px;max-width:1500px;overflow:auto;\">\n",
       "<table border=\"1\" class=\"dataframe\">\n",
       "  <thead>\n",
       "    <tr style=\"text-align: right;\">\n",
       "      <th></th>\n",
       "      <th>1.5.13</th>\n",
       "      <th>1.5.9</th>\n",
       "      <th>33085</th>\n",
       "      <th>34084</th>\n",
       "      <th>37744</th>\n",
       "    </tr>\n",
       "  </thead>\n",
       "  <tbody>\n",
       "    <tr>\n",
       "      <th>2015-10-25</th>\n",
       "      <td> 17</td>\n",
       "      <td> 2</td>\n",
       "      <td> 0</td>\n",
       "      <td> 19</td>\n",
       "      <td> 12</td>\n",
       "    </tr>\n",
       "    <tr>\n",
       "      <th>2015-10-26</th>\n",
       "      <td> 10</td>\n",
       "      <td> 2</td>\n",
       "      <td> 0</td>\n",
       "      <td>  6</td>\n",
       "      <td>  5</td>\n",
       "    </tr>\n",
       "    <tr>\n",
       "      <th>2015-10-27</th>\n",
       "      <td> 15</td>\n",
       "      <td> 5</td>\n",
       "      <td> 1</td>\n",
       "      <td> 12</td>\n",
       "      <td>  4</td>\n",
       "    </tr>\n",
       "    <tr>\n",
       "      <th>2015-10-28</th>\n",
       "      <td> 17</td>\n",
       "      <td> 0</td>\n",
       "      <td> 0</td>\n",
       "      <td> 13</td>\n",
       "      <td>  4</td>\n",
       "    </tr>\n",
       "  </tbody>\n",
       "</table>\n",
       "</div>"
      ],
      "text/plain": [
       "            1.5.13  1.5.9  33085  34084  37744\n",
       "2015-10-25      17      2      0     19     12\n",
       "2015-10-26      10      2      0      6      5\n",
       "2015-10-27      15      5      1     12      4\n",
       "2015-10-28      17      0      0     13      4"
      ]
     },
     "execution_count": 255,
     "metadata": {},
     "output_type": "execute_result"
    }
   ],
   "source": [
    "# table\n",
    "pd.DataFrame.from_dict(data['data']['values'])"
   ]
  },
  {
   "cell_type": "markdown",
   "metadata": {},
   "source": [
    "## Retention in absolute values. Event = booking created"
   ]
  },
  {
   "cell_type": "code",
   "execution_count": 269,
   "metadata": {
    "collapsed": false
   },
   "outputs": [
    {
     "data": {
      "text/plain": [
       "{u'2015-11-01': {u'counts': [95, 36, 40, 32, 35, 30, 33, 38], u'first': 348},\n",
       " u'2015-11-02': {u'counts': [77, 64, 52, 45, 37, 38, 38, 50], u'first': 260},\n",
       " u'2015-11-03': {u'counts': [89, 49, 43, 30, 30, 31, 44, 47], u'first': 239},\n",
       " u'2015-11-04': {u'counts': [81, 54, 45, 40, 43, 55, 55, 49], u'first': 276},\n",
       " u'2015-11-05': {u'counts': [71, 38, 34, 39, 50, 51, 51, 38], u'first': 244}}"
      ]
     },
     "execution_count": 269,
     "metadata": {},
     "output_type": "execute_result"
    }
   ],
   "source": [
    "# code\n",
    "data = api.request(['retention'], {\n",
    "    'from_date': '2015-11-01',\n",
    "    'to_date': '2015-11-05',\n",
    "    'retention_type': 'compounded',\n",
    "    'event': 'booking created',\n",
    "    'unit': 'day',\n",
    "    'interval_count': 7\n",
    "})\n",
    "\n",
    "# output data\n",
    "data"
   ]
  },
  {
   "cell_type": "code",
   "execution_count": 270,
   "metadata": {
    "collapsed": false
   },
   "outputs": [
    {
     "name": "stdout",
     "output_type": "stream",
     "text": [
      "{(u'2015-11-01', u'counts'): [95, 36, 40, 32, 35, 30, 33, 38], (u'2015-11-04', u'counts'): [81, 54, 45, 40, 43, 55, 55, 49], (u'2015-11-03', u'first'): 239, (u'2015-11-02', u'counts'): [77, 64, 52, 45, 37, 38, 38, 50], (u'2015-11-05', u'counts'): [71, 38, 34, 39, 50, 51, 51, 38], (u'2015-11-03', u'counts'): [89, 49, 43, 30, 30, 31, 44, 47], (u'2015-11-04', u'first'): 276, (u'2015-11-01', u'first'): 348, (u'2015-11-05', u'first'): 244, (u'2015-11-02', u'first'): 260}\n"
     ]
    },
    {
     "data": {
      "text/html": [
       "<div style=\"max-height:1000px;max-width:1500px;overflow:auto;\">\n",
       "<table border=\"1\" class=\"dataframe\">\n",
       "  <thead>\n",
       "    <tr style=\"text-align: right;\">\n",
       "      <th></th>\n",
       "      <th></th>\n",
       "      <th>0</th>\n",
       "      <th>1</th>\n",
       "      <th>2</th>\n",
       "      <th>3</th>\n",
       "      <th>4</th>\n",
       "      <th>5</th>\n",
       "      <th>6</th>\n",
       "      <th>7</th>\n",
       "    </tr>\n",
       "  </thead>\n",
       "  <tbody>\n",
       "    <tr>\n",
       "      <th rowspan=\"2\" valign=\"top\">2015-11-01</th>\n",
       "      <th>counts</th>\n",
       "      <td>  95</td>\n",
       "      <td>  36</td>\n",
       "      <td>  40</td>\n",
       "      <td>  32</td>\n",
       "      <td>  35</td>\n",
       "      <td>  30</td>\n",
       "      <td>  33</td>\n",
       "      <td>  38</td>\n",
       "    </tr>\n",
       "    <tr>\n",
       "      <th>first</th>\n",
       "      <td> 348</td>\n",
       "      <td> 348</td>\n",
       "      <td> 348</td>\n",
       "      <td> 348</td>\n",
       "      <td> 348</td>\n",
       "      <td> 348</td>\n",
       "      <td> 348</td>\n",
       "      <td> 348</td>\n",
       "    </tr>\n",
       "    <tr>\n",
       "      <th rowspan=\"2\" valign=\"top\">2015-11-02</th>\n",
       "      <th>counts</th>\n",
       "      <td>  77</td>\n",
       "      <td>  64</td>\n",
       "      <td>  52</td>\n",
       "      <td>  45</td>\n",
       "      <td>  37</td>\n",
       "      <td>  38</td>\n",
       "      <td>  38</td>\n",
       "      <td>  50</td>\n",
       "    </tr>\n",
       "    <tr>\n",
       "      <th>first</th>\n",
       "      <td> 260</td>\n",
       "      <td> 260</td>\n",
       "      <td> 260</td>\n",
       "      <td> 260</td>\n",
       "      <td> 260</td>\n",
       "      <td> 260</td>\n",
       "      <td> 260</td>\n",
       "      <td> 260</td>\n",
       "    </tr>\n",
       "    <tr>\n",
       "      <th rowspan=\"2\" valign=\"top\">2015-11-03</th>\n",
       "      <th>counts</th>\n",
       "      <td>  89</td>\n",
       "      <td>  49</td>\n",
       "      <td>  43</td>\n",
       "      <td>  30</td>\n",
       "      <td>  30</td>\n",
       "      <td>  31</td>\n",
       "      <td>  44</td>\n",
       "      <td>  47</td>\n",
       "    </tr>\n",
       "    <tr>\n",
       "      <th>first</th>\n",
       "      <td> 239</td>\n",
       "      <td> 239</td>\n",
       "      <td> 239</td>\n",
       "      <td> 239</td>\n",
       "      <td> 239</td>\n",
       "      <td> 239</td>\n",
       "      <td> 239</td>\n",
       "      <td> 239</td>\n",
       "    </tr>\n",
       "    <tr>\n",
       "      <th rowspan=\"2\" valign=\"top\">2015-11-04</th>\n",
       "      <th>counts</th>\n",
       "      <td>  81</td>\n",
       "      <td>  54</td>\n",
       "      <td>  45</td>\n",
       "      <td>  40</td>\n",
       "      <td>  43</td>\n",
       "      <td>  55</td>\n",
       "      <td>  55</td>\n",
       "      <td>  49</td>\n",
       "    </tr>\n",
       "    <tr>\n",
       "      <th>first</th>\n",
       "      <td> 276</td>\n",
       "      <td> 276</td>\n",
       "      <td> 276</td>\n",
       "      <td> 276</td>\n",
       "      <td> 276</td>\n",
       "      <td> 276</td>\n",
       "      <td> 276</td>\n",
       "      <td> 276</td>\n",
       "    </tr>\n",
       "    <tr>\n",
       "      <th rowspan=\"2\" valign=\"top\">2015-11-05</th>\n",
       "      <th>counts</th>\n",
       "      <td>  71</td>\n",
       "      <td>  38</td>\n",
       "      <td>  34</td>\n",
       "      <td>  39</td>\n",
       "      <td>  50</td>\n",
       "      <td>  51</td>\n",
       "      <td>  51</td>\n",
       "      <td>  38</td>\n",
       "    </tr>\n",
       "    <tr>\n",
       "      <th>first</th>\n",
       "      <td> 244</td>\n",
       "      <td> 244</td>\n",
       "      <td> 244</td>\n",
       "      <td> 244</td>\n",
       "      <td> 244</td>\n",
       "      <td> 244</td>\n",
       "      <td> 244</td>\n",
       "      <td> 244</td>\n",
       "    </tr>\n",
       "  </tbody>\n",
       "</table>\n",
       "</div>"
      ],
      "text/plain": [
       "                     0    1    2    3    4    5    6    7\n",
       "2015-11-01 counts   95   36   40   32   35   30   33   38\n",
       "           first   348  348  348  348  348  348  348  348\n",
       "2015-11-02 counts   77   64   52   45   37   38   38   50\n",
       "           first   260  260  260  260  260  260  260  260\n",
       "2015-11-03 counts   89   49   43   30   30   31   44   47\n",
       "           first   239  239  239  239  239  239  239  239\n",
       "2015-11-04 counts   81   54   45   40   43   55   55   49\n",
       "           first   276  276  276  276  276  276  276  276\n",
       "2015-11-05 counts   71   38   34   39   50   51   51   38\n",
       "           first   244  244  244  244  244  244  244  244"
      ]
     },
     "execution_count": 270,
     "metadata": {},
     "output_type": "execute_result"
    }
   ],
   "source": [
    "# convert dictionary into tuple\n",
    "reform = {(outerKey, innerKey): values for outerKey, innerDict in data.iteritems() for innerKey, values in innerDict.iteritems()}    \n",
    "print reform\n",
    "\n",
    "# table\n",
    "df = pd.DataFrame(reform)\n",
    "df.stack(0).unstack(0).stack(0)"
   ]
  },
  {
   "cell_type": "markdown",
   "metadata": {},
   "source": [
    "## Retention in absolute values. Event = booking created. Mode = private, service = lite"
   ]
  },
  {
   "cell_type": "code",
   "execution_count": 273,
   "metadata": {
    "collapsed": false
   },
   "outputs": [
    {
     "data": {
      "text/plain": [
       "{u'2015-10-31': {u'counts': [8, 5, 1, 1], u'first': 49},\n",
       " u'2015-11-01': {u'counts': [5, 0, 1, 0], u'first': 22},\n",
       " u'2015-11-02': {u'counts': [1, 1, 3, 3], u'first': 26},\n",
       " u'2015-11-03': {u'counts': [2, 0, 0, 0], u'first': 13}}"
      ]
     },
     "execution_count": 273,
     "metadata": {},
     "output_type": "execute_result"
    }
   ],
   "source": [
    "# code\n",
    "data = api.request(['retention'], {\n",
    "    'from_date': '2015-10-31',\n",
    "    'to_date': '2015-11-03',\n",
    "    'retention_type': 'compounded',\n",
    "    'event': 'booking created',\n",
    "    'unit': 'day',\n",
    "    'interval_count': 3,\n",
    "    'where': 'properties[\"mode\"] == \"private\" and properties[\"service\"] == \"lite\"'\n",
    "})\n",
    "\n",
    "# output data\n",
    "data"
   ]
  },
  {
   "cell_type": "code",
   "execution_count": 287,
   "metadata": {
    "collapsed": false
   },
   "outputs": [
    {
     "name": "stdout",
     "output_type": "stream",
     "text": [
      "{(u'2015-10-31', u'counts'): [8, 5, 1, 1], (u'2015-11-01', u'counts'): [5, 0, 1, 0], (u'2015-11-03', u'first'): 13, (u'2015-10-31', u'first'): 49, (u'2015-11-02', u'counts'): [1, 1, 3, 3], (u'2015-11-03', u'counts'): [2, 0, 0, 0], (u'2015-11-01', u'first'): 22, (u'2015-11-02', u'first'): 26}\n"
     ]
    },
    {
     "data": {
      "text/html": [
       "<div style=\"max-height:1000px;max-width:1500px;overflow:auto;\">\n",
       "<table border=\"1\" class=\"dataframe\">\n",
       "  <thead>\n",
       "    <tr style=\"text-align: right;\">\n",
       "      <th></th>\n",
       "      <th></th>\n",
       "      <th>0</th>\n",
       "      <th>1</th>\n",
       "      <th>2</th>\n",
       "      <th>3</th>\n",
       "    </tr>\n",
       "  </thead>\n",
       "  <tbody>\n",
       "    <tr>\n",
       "      <th rowspan=\"2\" valign=\"top\">2015-10-31</th>\n",
       "      <th>counts</th>\n",
       "      <td>  8</td>\n",
       "      <td>  5</td>\n",
       "      <td>  1</td>\n",
       "      <td>  1</td>\n",
       "    </tr>\n",
       "    <tr>\n",
       "      <th>first</th>\n",
       "      <td> 49</td>\n",
       "      <td> 49</td>\n",
       "      <td> 49</td>\n",
       "      <td> 49</td>\n",
       "    </tr>\n",
       "    <tr>\n",
       "      <th rowspan=\"2\" valign=\"top\">2015-11-01</th>\n",
       "      <th>counts</th>\n",
       "      <td>  5</td>\n",
       "      <td>  0</td>\n",
       "      <td>  1</td>\n",
       "      <td>  0</td>\n",
       "    </tr>\n",
       "    <tr>\n",
       "      <th>first</th>\n",
       "      <td> 22</td>\n",
       "      <td> 22</td>\n",
       "      <td> 22</td>\n",
       "      <td> 22</td>\n",
       "    </tr>\n",
       "    <tr>\n",
       "      <th rowspan=\"2\" valign=\"top\">2015-11-02</th>\n",
       "      <th>counts</th>\n",
       "      <td>  1</td>\n",
       "      <td>  1</td>\n",
       "      <td>  3</td>\n",
       "      <td>  3</td>\n",
       "    </tr>\n",
       "    <tr>\n",
       "      <th>first</th>\n",
       "      <td> 26</td>\n",
       "      <td> 26</td>\n",
       "      <td> 26</td>\n",
       "      <td> 26</td>\n",
       "    </tr>\n",
       "    <tr>\n",
       "      <th rowspan=\"2\" valign=\"top\">2015-11-03</th>\n",
       "      <th>counts</th>\n",
       "      <td>  2</td>\n",
       "      <td>  0</td>\n",
       "      <td>  0</td>\n",
       "      <td>  0</td>\n",
       "    </tr>\n",
       "    <tr>\n",
       "      <th>first</th>\n",
       "      <td> 13</td>\n",
       "      <td> 13</td>\n",
       "      <td> 13</td>\n",
       "      <td> 13</td>\n",
       "    </tr>\n",
       "  </tbody>\n",
       "</table>\n",
       "</div>"
      ],
      "text/plain": [
       "                    0   1   2   3\n",
       "2015-10-31 counts   8   5   1   1\n",
       "           first   49  49  49  49\n",
       "2015-11-01 counts   5   0   1   0\n",
       "           first   22  22  22  22\n",
       "2015-11-02 counts   1   1   3   3\n",
       "           first   26  26  26  26\n",
       "2015-11-03 counts   2   0   0   0\n",
       "           first   13  13  13  13"
      ]
     },
     "execution_count": 287,
     "metadata": {},
     "output_type": "execute_result"
    }
   ],
   "source": [
    "# convert dictionary into tuple\n",
    "reform = {(outerKey, innerKey): values for outerKey, innerDict in data.iteritems() for innerKey, values in innerDict.iteritems()}    \n",
    "print reform\n",
    "\n",
    "# table\n",
    "df = pd.DataFrame(reform)\n",
    "df2 = df.stack(0).unstack(0).stack(0)\n",
    "df2"
   ]
  },
  {
   "cell_type": "code",
   "execution_count": 288,
   "metadata": {
    "collapsed": false
   },
   "outputs": [],
   "source": [
    "# write xlsx file\n",
    "writer = pd.ExcelWriter('retention.xlsx', engine='xlsxwriter')\n",
    "df2.to_excel(writer, sheet_name='Private_Lite')"
   ]
  },
  {
   "cell_type": "code",
   "execution_count": 314,
   "metadata": {
    "collapsed": false
   },
   "outputs": [
    {
     "data": {
      "text/html": [
       "<div style=\"max-height:1000px;max-width:1500px;overflow:auto;\">\n",
       "<table border=\"1\" class=\"dataframe\">\n",
       "  <thead>\n",
       "    <tr style=\"text-align: right;\">\n",
       "      <th></th>\n",
       "      <th></th>\n",
       "      <th>counts</th>\n",
       "      <th>first</th>\n",
       "    </tr>\n",
       "  </thead>\n",
       "  <tbody>\n",
       "    <tr>\n",
       "      <th rowspan=\"4\" valign=\"top\">0</th>\n",
       "      <th>2015-10-31</th>\n",
       "      <td> 8</td>\n",
       "      <td> 49</td>\n",
       "    </tr>\n",
       "    <tr>\n",
       "      <th>2015-11-01</th>\n",
       "      <td> 5</td>\n",
       "      <td> 22</td>\n",
       "    </tr>\n",
       "    <tr>\n",
       "      <th>2015-11-02</th>\n",
       "      <td> 1</td>\n",
       "      <td> 26</td>\n",
       "    </tr>\n",
       "    <tr>\n",
       "      <th>2015-11-03</th>\n",
       "      <td> 2</td>\n",
       "      <td> 13</td>\n",
       "    </tr>\n",
       "    <tr>\n",
       "      <th rowspan=\"4\" valign=\"top\">1</th>\n",
       "      <th>2015-10-31</th>\n",
       "      <td> 5</td>\n",
       "      <td> 49</td>\n",
       "    </tr>\n",
       "    <tr>\n",
       "      <th>2015-11-01</th>\n",
       "      <td> 0</td>\n",
       "      <td> 22</td>\n",
       "    </tr>\n",
       "    <tr>\n",
       "      <th>2015-11-02</th>\n",
       "      <td> 1</td>\n",
       "      <td> 26</td>\n",
       "    </tr>\n",
       "    <tr>\n",
       "      <th>2015-11-03</th>\n",
       "      <td> 0</td>\n",
       "      <td> 13</td>\n",
       "    </tr>\n",
       "    <tr>\n",
       "      <th rowspan=\"4\" valign=\"top\">2</th>\n",
       "      <th>2015-10-31</th>\n",
       "      <td> 1</td>\n",
       "      <td> 49</td>\n",
       "    </tr>\n",
       "    <tr>\n",
       "      <th>2015-11-01</th>\n",
       "      <td> 1</td>\n",
       "      <td> 22</td>\n",
       "    </tr>\n",
       "    <tr>\n",
       "      <th>2015-11-02</th>\n",
       "      <td> 3</td>\n",
       "      <td> 26</td>\n",
       "    </tr>\n",
       "    <tr>\n",
       "      <th>2015-11-03</th>\n",
       "      <td> 0</td>\n",
       "      <td> 13</td>\n",
       "    </tr>\n",
       "    <tr>\n",
       "      <th rowspan=\"4\" valign=\"top\">3</th>\n",
       "      <th>2015-10-31</th>\n",
       "      <td> 1</td>\n",
       "      <td> 49</td>\n",
       "    </tr>\n",
       "    <tr>\n",
       "      <th>2015-11-01</th>\n",
       "      <td> 0</td>\n",
       "      <td> 22</td>\n",
       "    </tr>\n",
       "    <tr>\n",
       "      <th>2015-11-02</th>\n",
       "      <td> 3</td>\n",
       "      <td> 26</td>\n",
       "    </tr>\n",
       "    <tr>\n",
       "      <th>2015-11-03</th>\n",
       "      <td> 0</td>\n",
       "      <td> 13</td>\n",
       "    </tr>\n",
       "  </tbody>\n",
       "</table>\n",
       "</div>"
      ],
      "text/plain": [
       "              counts  first\n",
       "0 2015-10-31       8     49\n",
       "  2015-11-01       5     22\n",
       "  2015-11-02       1     26\n",
       "  2015-11-03       2     13\n",
       "1 2015-10-31       5     49\n",
       "  2015-11-01       0     22\n",
       "  2015-11-02       1     26\n",
       "  2015-11-03       0     13\n",
       "2 2015-10-31       1     49\n",
       "  2015-11-01       1     22\n",
       "  2015-11-02       3     26\n",
       "  2015-11-03       0     13\n",
       "3 2015-10-31       1     49\n",
       "  2015-11-01       0     22\n",
       "  2015-11-02       3     26\n",
       "  2015-11-03       0     13"
      ]
     },
     "execution_count": 314,
     "metadata": {},
     "output_type": "execute_result"
    }
   ],
   "source": [
    "# try another format of table\n",
    "df3 = df.stack(1).unstack(1).stack(0)\n",
    "df3"
   ]
  },
  {
   "cell_type": "code",
   "execution_count": 324,
   "metadata": {
    "collapsed": false
   },
   "outputs": [
    {
     "data": {
      "text/html": [
       "<div style=\"max-height:1000px;max-width:1500px;overflow:auto;\">\n",
       "<table border=\"1\" class=\"dataframe\">\n",
       "  <thead>\n",
       "    <tr style=\"text-align: right;\">\n",
       "      <th></th>\n",
       "      <th></th>\n",
       "      <th>counts</th>\n",
       "      <th>first</th>\n",
       "      <th>percentage</th>\n",
       "    </tr>\n",
       "  </thead>\n",
       "  <tbody>\n",
       "    <tr>\n",
       "      <th rowspan=\"4\" valign=\"top\">0</th>\n",
       "      <th>2015-10-31</th>\n",
       "      <td> 8</td>\n",
       "      <td> 49</td>\n",
       "      <td> 16.326531</td>\n",
       "    </tr>\n",
       "    <tr>\n",
       "      <th>2015-11-01</th>\n",
       "      <td> 5</td>\n",
       "      <td> 22</td>\n",
       "      <td> 22.727273</td>\n",
       "    </tr>\n",
       "    <tr>\n",
       "      <th>2015-11-02</th>\n",
       "      <td> 1</td>\n",
       "      <td> 26</td>\n",
       "      <td>  3.846154</td>\n",
       "    </tr>\n",
       "    <tr>\n",
       "      <th>2015-11-03</th>\n",
       "      <td> 2</td>\n",
       "      <td> 13</td>\n",
       "      <td> 15.384615</td>\n",
       "    </tr>\n",
       "    <tr>\n",
       "      <th rowspan=\"4\" valign=\"top\">1</th>\n",
       "      <th>2015-10-31</th>\n",
       "      <td> 5</td>\n",
       "      <td> 49</td>\n",
       "      <td> 10.204082</td>\n",
       "    </tr>\n",
       "    <tr>\n",
       "      <th>2015-11-01</th>\n",
       "      <td> 0</td>\n",
       "      <td> 22</td>\n",
       "      <td>  0.000000</td>\n",
       "    </tr>\n",
       "    <tr>\n",
       "      <th>2015-11-02</th>\n",
       "      <td> 1</td>\n",
       "      <td> 26</td>\n",
       "      <td>  3.846154</td>\n",
       "    </tr>\n",
       "    <tr>\n",
       "      <th>2015-11-03</th>\n",
       "      <td> 0</td>\n",
       "      <td> 13</td>\n",
       "      <td>  0.000000</td>\n",
       "    </tr>\n",
       "    <tr>\n",
       "      <th rowspan=\"4\" valign=\"top\">2</th>\n",
       "      <th>2015-10-31</th>\n",
       "      <td> 1</td>\n",
       "      <td> 49</td>\n",
       "      <td>  2.040816</td>\n",
       "    </tr>\n",
       "    <tr>\n",
       "      <th>2015-11-01</th>\n",
       "      <td> 1</td>\n",
       "      <td> 22</td>\n",
       "      <td>  4.545455</td>\n",
       "    </tr>\n",
       "    <tr>\n",
       "      <th>2015-11-02</th>\n",
       "      <td> 3</td>\n",
       "      <td> 26</td>\n",
       "      <td> 11.538462</td>\n",
       "    </tr>\n",
       "    <tr>\n",
       "      <th>2015-11-03</th>\n",
       "      <td> 0</td>\n",
       "      <td> 13</td>\n",
       "      <td>  0.000000</td>\n",
       "    </tr>\n",
       "    <tr>\n",
       "      <th rowspan=\"4\" valign=\"top\">3</th>\n",
       "      <th>2015-10-31</th>\n",
       "      <td> 1</td>\n",
       "      <td> 49</td>\n",
       "      <td>  2.040816</td>\n",
       "    </tr>\n",
       "    <tr>\n",
       "      <th>2015-11-01</th>\n",
       "      <td> 0</td>\n",
       "      <td> 22</td>\n",
       "      <td>  0.000000</td>\n",
       "    </tr>\n",
       "    <tr>\n",
       "      <th>2015-11-02</th>\n",
       "      <td> 3</td>\n",
       "      <td> 26</td>\n",
       "      <td> 11.538462</td>\n",
       "    </tr>\n",
       "    <tr>\n",
       "      <th>2015-11-03</th>\n",
       "      <td> 0</td>\n",
       "      <td> 13</td>\n",
       "      <td>  0.000000</td>\n",
       "    </tr>\n",
       "  </tbody>\n",
       "</table>\n",
       "</div>"
      ],
      "text/plain": [
       "              counts  first  percentage\n",
       "0 2015-10-31       8     49   16.326531\n",
       "  2015-11-01       5     22   22.727273\n",
       "  2015-11-02       1     26    3.846154\n",
       "  2015-11-03       2     13   15.384615\n",
       "1 2015-10-31       5     49   10.204082\n",
       "  2015-11-01       0     22    0.000000\n",
       "  2015-11-02       1     26    3.846154\n",
       "  2015-11-03       0     13    0.000000\n",
       "2 2015-10-31       1     49    2.040816\n",
       "  2015-11-01       1     22    4.545455\n",
       "  2015-11-02       3     26   11.538462\n",
       "  2015-11-03       0     13    0.000000\n",
       "3 2015-10-31       1     49    2.040816\n",
       "  2015-11-01       0     22    0.000000\n",
       "  2015-11-02       3     26   11.538462\n",
       "  2015-11-03       0     13    0.000000"
      ]
     },
     "execution_count": 324,
     "metadata": {},
     "output_type": "execute_result"
    }
   ],
   "source": [
    "# add new column showing percentage\n",
    "df3['percentage'] = (df3['counts'] / df3['first'])*100\n",
    "df3"
   ]
  },
  {
   "cell_type": "code",
   "execution_count": 332,
   "metadata": {
    "collapsed": false
   },
   "outputs": [],
   "source": [
    "# plot data\n",
    "import matplotlib.pyplot as plt\n",
    "df3['percentage'].plot()\n",
    "plt.show()"
   ]
  },
  {
   "cell_type": "markdown",
   "metadata": {},
   "source": [
    "## Funnels"
   ]
  },
  {
   "cell_type": "code",
   "execution_count": 149,
   "metadata": {
    "collapsed": false
   },
   "outputs": [
    {
     "ename": "TypeError",
     "evalue": "request() takes at least 3 arguments (1 given)",
     "output_type": "error",
     "traceback": [
      "\u001b[1;31m---------------------------------------------------------------------------\u001b[0m",
      "\u001b[1;31mTypeError\u001b[0m                                 Traceback (most recent call last)",
      "\u001b[1;32m<ipython-input-149-18d6047354b2>\u001b[0m in \u001b[0;36m<module>\u001b[1;34m()\u001b[0m\n\u001b[1;32m----> 1\u001b[1;33m \u001b[0mdata\u001b[0m \u001b[1;33m=\u001b[0m \u001b[0mapi\u001b[0m\u001b[1;33m.\u001b[0m\u001b[0mrequest\u001b[0m\u001b[1;33m(\u001b[0m\u001b[1;33m)\u001b[0m\u001b[1;33m\u001b[0m\u001b[0m\n\u001b[0m\u001b[0;32m      2\u001b[0m \u001b[0mdata\u001b[0m\u001b[1;33m\u001b[0m\u001b[0m\n",
      "\u001b[1;31mTypeError\u001b[0m: request() takes at least 3 arguments (1 given)"
     ]
    }
   ],
   "source": [
    "data = api.request(['funnels'], {\n",
    "    'funnel_id': 1,\n",
    "    'from_date': '2015-09-17',\n",
    "    'to_date': '2015-09-20'\n",
    "  })\n",
    "data"
   ]
  }
 ],
 "metadata": {
  "kernelspec": {
   "display_name": "Python 2",
   "language": "python",
   "name": "python2"
  },
  "language_info": {
   "codemirror_mode": {
    "name": "ipython",
    "version": 2
   },
   "file_extension": ".py",
   "mimetype": "text/x-python",
   "name": "python",
   "nbconvert_exporter": "python",
   "pygments_lexer": "ipython2",
   "version": "2.7.10"
  }
 },
 "nbformat": 4,
 "nbformat_minor": 0
}
